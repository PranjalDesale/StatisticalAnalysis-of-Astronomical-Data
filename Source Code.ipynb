{
 "metadata": {
  "language_info": {
   "codemirror_mode": {
    "name": "ipython",
    "version": 3
   },
   "file_extension": ".py",
   "mimetype": "text/x-python",
   "name": "python",
   "nbconvert_exporter": "python",
   "pygments_lexer": "ipython3",
   "version": "3.7.7"
  },
  "orig_nbformat": 2,
  "kernelspec": {
   "name": "python377jvsc74a57bd018016d89a72eab99ef8a696fba528aa31eb418ed4686eef7403f84bb6f8aee5b",
   "display_name": "Python 3.7.7 64-bit ('base': conda)"
  }
 },
 "nbformat": 4,
 "nbformat_minor": 2,
 "cells": [
  {
   "cell_type": "code",
   "execution_count": 8,
   "metadata": {},
   "outputs": [],
   "source": [
    "import numpy as np\n",
    "import scipy as sp\n",
    "import math"
   ]
  },
  {
   "cell_type": "code",
   "execution_count": 16,
   "metadata": {},
   "outputs": [
    {
     "output_type": "stream",
     "name": "stdout",
     "text": [
      "2.456153846153846 2.318666666666666\n"
     ]
    }
   ],
   "source": [
    "Values_15 = [2.58,2.80,2.53,2.48,2.00,2.39,1.20,2.62,2.58,2.51,1.97,2.40,2.45,2.62,1.65]\n",
    "Arithematic_Mean_15 = np.mean(Values_15)\n",
    "Values_13 = [2.58,2.80,2.53,2.48,2.00,2.39,2.62,2.58,2.51,1.97,2.40,2.45,2.62]\n",
    "Arithematic_Mean_13 = np.mean(Values_13)\n",
    "print(Arithematic_Mean_13,Arithematic_Mean_15)"
   ]
  },
  {
   "cell_type": "code",
   "execution_count": 15,
   "metadata": {},
   "outputs": [
    {
     "output_type": "stream",
     "name": "stdout",
     "text": [
      "2.51 2.48\n"
     ]
    }
   ],
   "source": [
    "median_15 = np.median(Values_15)\n",
    "median_13 = np.median(Values_13)\n",
    "print(median_13,median_15)"
   ]
  },
  {
   "cell_type": "code",
   "execution_count": 18,
   "metadata": {},
   "outputs": [
    {
     "output_type": "stream",
     "name": "stdout",
     "text": [
      "0.06265844731217128 0.10765734393762326\n"
     ]
    }
   ],
   "source": [
    "Std_dev_15 = np.std(Values_15)\n",
    "Std_dev_13 = np.std(Values_13)\n",
    "print(Std_dev_13/(13)**0.5,Std_dev_15/(15)**0.5)"
   ]
  },
  {
   "cell_type": "code",
   "execution_count": 19,
   "metadata": {},
   "outputs": [],
   "source": [
    "Positive_Error_15 = [0.16,0.80,0.11,0.41,0.7,0.08,0.50,0.07,0.07,0.05,0.33,0.15,0.30,0.05,0.35]\n",
    "Negative_Error_15 = [0.15,0.06,0.10,0.13,0.5,0.08,0.30,0.07,0.07,0.05,0.28,0.14,0.27,0.05,0.35]\n",
    "Positive_Error_13 = [0.16,0.80,0.11,0.41,0.7,0.08,0.07,0.07,0.05,0.33,0.15,0.30,0.05]\n",
    "Negative_Error_13 = [0.15,0.06,0.10,0.13,0.5,0.08,0.07,0.07,0.05,0.28,0.14,0.27,0.05]"
   ]
  },
  {
   "cell_type": "code",
   "execution_count": 40,
   "metadata": {},
   "outputs": [],
   "source": [
    "b_15 =[]\n",
    "sigma_15 =[]\n",
    "alpha_15 =[]\n",
    "V_15=[]\n",
    "for i in range(0,15):\n",
    "    b_15.append((Positive_Error_15[i]-Negative_Error_15[i])/(2*np.pi)**0.5)\n",
    "    sigma_15.append((Positive_Error_15[i]+Negative_Error_15[i])/2)\n",
    "    alpha_15.append((Positive_Error_15[i]-Negative_Error_15[i])/2)\n",
    "    V_15.append((sigma_15[i]**2)+(1-2/np.pi)*(alpha_15[i])**2)"
   ]
  },
  {
   "cell_type": "code",
   "execution_count": 41,
   "metadata": {},
   "outputs": [],
   "source": [
    "sum_numerator_15 = 0\n",
    "sum_v_15 =0\n",
    "for i in range (0,15):\n",
    "    sum_v_15+=(1/V[i])\n",
    "    sum_numerator_15+= (Values_15[i]-b_15[i])/V_15[i]"
   ]
  },
  {
   "cell_type": "code",
   "execution_count": 42,
   "metadata": {},
   "outputs": [
    {
     "output_type": "execute_result",
     "data": {
      "text/plain": [
       "2.5318267234159677"
      ]
     },
     "metadata": {},
     "execution_count": 42
    }
   ],
   "source": [
    "sum_numerator_15/sum_v_15"
   ]
  },
  {
   "cell_type": "code",
   "execution_count": 43,
   "metadata": {},
   "outputs": [
    {
     "output_type": "execute_result",
     "data": {
      "text/plain": [
       "0.024992218831891743"
      ]
     },
     "metadata": {},
     "execution_count": 43
    }
   ],
   "source": [
    "1/(sum_v_15)**0.5"
   ]
  },
  {
   "cell_type": "code",
   "execution_count": 46,
   "metadata": {},
   "outputs": [
    {
     "output_type": "execute_result",
     "data": {
      "text/plain": [
       "2.5418002776426687"
      ]
     },
     "metadata": {},
     "execution_count": 46
    }
   ],
   "source": [
    "b_13 =[]\n",
    "sigma_13 =[]\n",
    "alpha_13 =[]\n",
    "V_13=[]\n",
    "for i in range(0,13):\n",
    "    b_13.append((Positive_Error_13[i]-Negative_Error_13[i])/(2*np.pi)**0.5)\n",
    "    sigma_13.append((Positive_Error_13[i]+Negative_Error_13[i])/2)\n",
    "    alpha_13.append((Positive_Error_13[i]-Negative_Error_13[i])/2)\n",
    "    V_13.append((sigma_13[i]**2)+(1-2/np.pi)*(alpha_13[i])**2)\n",
    "\n",
    "\n",
    "sum_numerator_13 = 0\n",
    "sum_v_13 =0\n",
    "for i in range (0,13):\n",
    "    sum_v_13+=(1/V_13[i])\n",
    "    sum_numerator_13+= (Values_13[i]-b_13[i])/V_13[i]\n",
    "\n",
    "\n",
    "sum_numerator_13/sum_v_13"
   ]
  },
  {
   "cell_type": "code",
   "execution_count": 45,
   "metadata": {},
   "outputs": [
    {
     "output_type": "execute_result",
     "data": {
      "text/plain": [
       "0.02895410485207773"
      ]
     },
     "metadata": {},
     "execution_count": 45
    }
   ],
   "source": [
    "1/(sum_v_13)**0.5"
   ]
  },
  {
   "cell_type": "code",
   "execution_count": null,
   "metadata": {},
   "outputs": [],
   "source": []
  }
 ]
}